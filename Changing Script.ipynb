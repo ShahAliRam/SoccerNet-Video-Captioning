{
  "nbformat": 4,
  "nbformat_minor": 0,
  "metadata": {
    "colab": {
      "provenance": []
    },
    "kernelspec": {
      "name": "python3",
      "display_name": "Python 3"
    },
    "language_info": {
      "name": "python"
    }
  },
  "cells": [
    {
      "cell_type": "code",
      "execution_count": null,
      "metadata": {
        "colab": {
          "base_uri": "https://localhost:8080/"
        },
        "id": "9nR9EJsEA6ey",
        "outputId": "257a6e96-8cb8-4382-a43b-19da7b9734b2"
      },
      "outputs": [
        {
          "output_type": "stream",
          "name": "stdout",
          "text": [
            "Requirement already satisfied: transformers in /usr/local/lib/python3.10/dist-packages (4.46.3)\n",
            "Requirement already satisfied: torch in /usr/local/lib/python3.10/dist-packages (2.5.1+cu121)\n",
            "Requirement already satisfied: filelock in /usr/local/lib/python3.10/dist-packages (from transformers) (3.16.1)\n",
            "Requirement already satisfied: huggingface-hub<1.0,>=0.23.2 in /usr/local/lib/python3.10/dist-packages (from transformers) (0.26.3)\n",
            "Requirement already satisfied: numpy>=1.17 in /usr/local/lib/python3.10/dist-packages (from transformers) (1.26.4)\n",
            "Requirement already satisfied: packaging>=20.0 in /usr/local/lib/python3.10/dist-packages (from transformers) (24.2)\n",
            "Requirement already satisfied: pyyaml>=5.1 in /usr/local/lib/python3.10/dist-packages (from transformers) (6.0.2)\n",
            "Requirement already satisfied: regex!=2019.12.17 in /usr/local/lib/python3.10/dist-packages (from transformers) (2024.9.11)\n",
            "Requirement already satisfied: requests in /usr/local/lib/python3.10/dist-packages (from transformers) (2.32.3)\n",
            "Requirement already satisfied: tokenizers<0.21,>=0.20 in /usr/local/lib/python3.10/dist-packages (from transformers) (0.20.3)\n",
            "Requirement already satisfied: safetensors>=0.4.1 in /usr/local/lib/python3.10/dist-packages (from transformers) (0.4.5)\n",
            "Requirement already satisfied: tqdm>=4.27 in /usr/local/lib/python3.10/dist-packages (from transformers) (4.66.6)\n",
            "Requirement already satisfied: typing-extensions>=4.8.0 in /usr/local/lib/python3.10/dist-packages (from torch) (4.12.2)\n",
            "Requirement already satisfied: networkx in /usr/local/lib/python3.10/dist-packages (from torch) (3.4.2)\n",
            "Requirement already satisfied: jinja2 in /usr/local/lib/python3.10/dist-packages (from torch) (3.1.4)\n",
            "Requirement already satisfied: fsspec in /usr/local/lib/python3.10/dist-packages (from torch) (2024.10.0)\n",
            "Requirement already satisfied: sympy==1.13.1 in /usr/local/lib/python3.10/dist-packages (from torch) (1.13.1)\n",
            "Requirement already satisfied: mpmath<1.4,>=1.1.0 in /usr/local/lib/python3.10/dist-packages (from sympy==1.13.1->torch) (1.3.0)\n",
            "Requirement already satisfied: MarkupSafe>=2.0 in /usr/local/lib/python3.10/dist-packages (from jinja2->torch) (3.0.2)\n",
            "Requirement already satisfied: charset-normalizer<4,>=2 in /usr/local/lib/python3.10/dist-packages (from requests->transformers) (3.4.0)\n",
            "Requirement already satisfied: idna<4,>=2.5 in /usr/local/lib/python3.10/dist-packages (from requests->transformers) (3.10)\n",
            "Requirement already satisfied: urllib3<3,>=1.21.1 in /usr/local/lib/python3.10/dist-packages (from requests->transformers) (2.2.3)\n",
            "Requirement already satisfied: certifi>=2017.4.17 in /usr/local/lib/python3.10/dist-packages (from requests->transformers) (2024.8.30)\n"
          ]
        }
      ],
      "source": [
        "pip install transformers torch"
      ]
    },
    {
      "cell_type": "code",
      "source": [
        "import os\n",
        "from transformers import AutoTokenizer, AutoModelForTokenClassification, pipeline\n",
        "\n",
        "# Load pre-trained NER model\n",
        "model_name = \"dbmdz/bert-large-cased-finetuned-conll03-english\"  # Replace with a model suitable for your needs\n",
        "tokenizer = AutoTokenizer.from_pretrained(model_name)\n",
        "model = AutoModelForTokenClassification.from_pretrained(model_name)\n",
        "\n",
        "# Create NER pipeline\n",
        "ner_pipeline = pipeline(\"ner\", model=model, tokenizer=tokenizer, aggregation_strategy=\"simple\")\n",
        "\n",
        "# Folder containing text files\n",
        "folder_path = \"/content/drive/mydrive/trimmed_captions\"  # Update with the path to your folder\n",
        "\n",
        "# Classification map for replacing entity types\n",
        "classification_map = {\n",
        "    \"PER\": \"Player\",   # Assuming Person names are Players\n",
        "    \"ORG\": \"Team\"     # Assuming Organization names are Team\n",
        "}\n",
        "\n",
        "# Function to process a single file\n",
        "def process_file(file_path):\n",
        "    # Read file content\n",
        "    with open(file_path, \"r\", encoding=\"utf-8\") as file:\n",
        "        text = file.read()\n",
        "\n",
        "    # Detect entities\n",
        "    entities = ner_pipeline(text)\n",
        "\n",
        "    # Replace entities with labels\n",
        "    modified_text = text\n",
        "    for entity in entities:\n",
        "        word = entity[\"word\"]\n",
        "        entity_type = entity[\"entity_group\"]\n",
        "        if entity_type in classification_map:\n",
        "            replacement = classification_map[entity_type]\n",
        "            modified_text = modified_text.replace(word, replacement)\n",
        "\n",
        "    return modified_text\n",
        "\n",
        "# Process all text files in the folder\n",
        "for filename in os.listdir(folder_path):\n",
        "    if filename.endswith(\".txt\"):  # Process only .txt files\n",
        "        file_path = os.path.join(folder_path, filename)\n",
        "\n",
        "        # Process the file and get modified content\n",
        "        modified_content = process_file(file_path)\n",
        "\n",
        "        # Save the modified content to a new file\n",
        "        new_file_path = os.path.join(folder_path, f\"{os.path.splitext(filename)[0]}_modified.txt\")\n",
        "        with open(new_file_path, \"w\", encoding=\"utf-8\") as new_file:\n",
        "            new_file.write(modified_content)\n",
        "\n",
        "        print(f\"Processed and saved: {new_file_path}\")\n"
      ],
      "metadata": {
        "id": "rntFpCi4BVar"
      },
      "execution_count": null,
      "outputs": []
    }
  ]
}